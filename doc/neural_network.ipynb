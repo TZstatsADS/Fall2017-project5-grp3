{
 "cells": [
  {
   "cell_type": "code",
   "execution_count": 1,
   "metadata": {},
   "outputs": [
    {
     "name": "stderr",
     "output_type": "stream",
     "text": [
      "/anaconda/lib/python3.6/site-packages/sklearn/cross_validation.py:44: DeprecationWarning: This module was deprecated in version 0.18 in favor of the model_selection module into which all the refactored classes and functions are moved. Also note that the interface of the new CV iterators are different from that of this module. This module will be removed in 0.20.\n",
      "  \"This module will be removed in 0.20.\", DeprecationWarning)\n"
     ]
    }
   ],
   "source": [
    "import pandas as pd\n",
    "import numpy as np\n",
    "import matplotlib.pyplot as plt\n",
    "from pandas import DataFrame\n",
    "import sklearn.neural_network\n",
    "from sklearn.neural_network import MLPClassifier\n",
    "from sklearn import cross_validation, metrics \n",
    "import time"
   ]
  },
  {
   "cell_type": "code",
   "execution_count": 2,
   "metadata": {
    "collapsed": true
   },
   "outputs": [],
   "source": [
    "input_path1 = '/Users/linhan/Desktop/fall2017-project5-proj5-grp3/output/train_num.csv'\n",
    "train_num = pd.read_csv(input_path1)\n",
    "input_path2 = '/Users/linhan/Desktop/fall2017-project5-proj5-grp3/output/train_num_runique.csv'\n",
    "train_num_runique= pd.read_csv(input_path2)"
   ]
  },
  {
   "cell_type": "code",
   "execution_count": 11,
   "metadata": {},
   "outputs": [
    {
     "data": {
      "text/plain": [
       "array(['Unnamed: 0', 'people_id', 'activity_id', 'date',\n",
       "       'activity_category', 'char_1', 'char_2', 'char_3', 'char_4',\n",
       "       'char_5', 'char_6', 'char_7', 'char_8', 'char_9', 'char_10',\n",
       "       'outcome', 'people_char_1', 'people_group_1', 'people_char_2',\n",
       "       'people_date', 'people_char_3', 'people_char_4', 'people_char_5',\n",
       "       'people_char_6', 'people_char_7', 'people_char_8', 'people_char_9',\n",
       "       'people_char_10', 'people_char_11', 'people_char_12',\n",
       "       'people_char_13', 'people_char_14', 'people_char_15',\n",
       "       'people_char_16', 'people_char_17', 'people_char_18',\n",
       "       'people_char_19', 'people_char_20', 'people_char_21',\n",
       "       'people_char_22', 'people_char_23', 'people_char_24',\n",
       "       'people_char_25', 'people_char_26', 'people_char_27',\n",
       "       'people_char_28', 'people_char_29', 'people_char_30',\n",
       "       'people_char_31', 'people_char_32', 'people_char_33',\n",
       "       'people_char_34', 'people_char_35', 'people_char_36',\n",
       "       'people_char_37', 'people_char_38'], dtype=object)"
      ]
     },
     "execution_count": 11,
     "metadata": {},
     "output_type": "execute_result"
    }
   ],
   "source": [
    "train_num.columns.values "
   ]
  },
  {
   "cell_type": "code",
   "execution_count": 12,
   "metadata": {
    "collapsed": true
   },
   "outputs": [],
   "source": [
    "y= train_num['outcome']\n",
    "cols= ['Unnamed: 0', 'people_id', 'activity_id', 'date','people_date', 'outcome']\n",
    "train_num1 = train_num.drop(cols, axis=1)"
   ]
  },
  {
   "cell_type": "code",
   "execution_count": 13,
   "metadata": {
    "collapsed": true
   },
   "outputs": [],
   "source": [
    "####Cross-Validation Method\n",
    "def model_performance(alg, features,Y, performCV= True, cv_folds=5):\n",
    "   \n",
    "    #Perform cross-validation:\n",
    "    if performCV:\n",
    "        cv_score = cross_validation.cross_val_score(alg, features, Y, cv=cv_folds)\n",
    "    \n",
    "    if performCV:\n",
    "        print (\"CV Score : Mean - %.7g | Std - %.7g \" % (np.mean(cv_score),np.std(cv_score)))"
   ]
  },
  {
   "cell_type": "code",
   "execution_count": 14,
   "metadata": {},
   "outputs": [
    {
     "name": "stdout",
     "output_type": "stream",
     "text": [
      "CV Score : Mean - 0.7557282 | Std - 0.1080583 \n",
      "CV Score : Mean - 0.8202664 | Std - 0.03813715 \n"
     ]
    }
   ],
   "source": [
    "for i in range(1,10,5):\n",
    "    mlp = MLPClassifier(hidden_layer_sizes=(i, ), activation='relu', solver='adam', alpha=0.001, \n",
    "                    batch_size='auto', learning_rate='constant', learning_rate_init=0.001, power_t=0.5, max_iter= 500, \n",
    "                    shuffle=False, random_state=50, tol=0.0001, verbose=False, warm_start=False, momentum=0.9,\n",
    "                    nesterovs_momentum=True, early_stopping=False, validation_fraction=0.3, \n",
    "                    beta_1=0.9, beta_2=0.99,epsilon=1e-08)\n",
    "    model_performance(mlp, features=train_num1, Y=y)"
   ]
  },
  {
   "cell_type": "code",
   "execution_count": 15,
   "metadata": {},
   "outputs": [
    {
     "name": "stdout",
     "output_type": "stream",
     "text": [
      "CV Score : Mean - 0.8056083 | Std - 0.04034143 \n",
      "hidden layer= 10\n",
      "1639.6509740000001 seconds\n",
      "CV Score : Mean - 0.83717 | Std - 0.01709536 \n",
      "hidden layer= 15\n",
      "4380.299859000001 seconds\n"
     ]
    }
   ],
   "source": [
    "for i in range(10,20,5):\n",
    "    mlp = MLPClassifier(hidden_layer_sizes=(i, ), activation='relu', solver='adam', alpha=0.001, \n",
    "                    batch_size='auto', learning_rate='constant', learning_rate_init=0.001, power_t=0.5, max_iter= 500, \n",
    "                    shuffle=False, random_state=50, tol=0.0001, verbose=False, warm_start=False, momentum=0.9,\n",
    "                    nesterovs_momentum=True, early_stopping=False, validation_fraction=0.3, \n",
    "                    beta_1=0.9, beta_2=0.99,epsilon=1e-08)\n",
    "    start_time = time.clock()\n",
    "    model_performance(mlp, features=train_num1, Y=y)\n",
    "    print('hidden layer=' ,i)\n",
    "    print(time.clock() - start_time, \"seconds\") "
   ]
  },
  {
   "cell_type": "code",
   "execution_count": null,
   "metadata": {
    "collapsed": true
   },
   "outputs": [],
   "source": []
  }
 ],
 "metadata": {
  "kernelspec": {
   "display_name": "Python 3",
   "language": "python",
   "name": "python3"
  },
  "language_info": {
   "codemirror_mode": {
    "name": "ipython",
    "version": 3
   },
   "file_extension": ".py",
   "mimetype": "text/x-python",
   "name": "python",
   "nbconvert_exporter": "python",
   "pygments_lexer": "ipython3",
   "version": "3.6.1"
  }
 },
 "nbformat": 4,
 "nbformat_minor": 2
}
